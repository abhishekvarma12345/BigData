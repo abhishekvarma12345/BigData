{
 "cells": [
  {
   "cell_type": "code",
   "execution_count": 9,
   "metadata": {},
   "outputs": [
    {
     "data": {
      "text/plain": [
       "array([[1, 3],\n",
       "       [2, 3]])"
      ]
     },
     "execution_count": 9,
     "metadata": {},
     "output_type": "execute_result"
    }
   ],
   "source": [
    "import numpy as np\n",
    "x = np.array([[1,3],[2,3]])\n",
    "x"
   ]
  },
  {
   "cell_type": "code",
   "execution_count": 14,
   "metadata": {},
   "outputs": [
    {
     "data": {
      "text/plain": [
       "2"
      ]
     },
     "execution_count": 14,
     "metadata": {},
     "output_type": "execute_result"
    }
   ],
   "source": [
    "np.count_nonzero((x==x.T).flatten())"
   ]
  },
  {
   "cell_type": "code",
   "execution_count": 15,
   "metadata": {},
   "outputs": [],
   "source": [
    "def readVectorsSeq(filename):\n",
    "    with open(filename) as f:\n",
    "        result = [tuple(map(float, i.split(','))) for i in f]\n",
    "    return result"
   ]
  },
  {
   "cell_type": "code",
   "execution_count": 16,
   "metadata": {},
   "outputs": [
    {
     "data": {
      "text/plain": [
       "[(1.0, 1.0),\n",
       " (1.1, 1.1),\n",
       " (0.9, 0.9),\n",
       " (1.0, 0.9),\n",
       " (4.0, 1.0),\n",
       " (4.1, 1.1),\n",
       " (3.9, 0.9),\n",
       " (4.0, 0.9),\n",
       " (1.0, 4.0),\n",
       " (1.1, 4.1),\n",
       " (0.9, 3.9),\n",
       " (1.0, 3.9),\n",
       " (2.0, 2.0),\n",
       " (2.2, 2.0),\n",
       " (4.0, 4.0)]"
      ]
     },
     "execution_count": 16,
     "metadata": {},
     "output_type": "execute_result"
    }
   ],
   "source": [
    "inputPoints = readVectorsSeq(\"testdataHW2.txt\")\n",
    "inputPoints"
   ]
  },
  {
   "cell_type": "code",
   "execution_count": 21,
   "metadata": {},
   "outputs": [],
   "source": [
    "import math    \n",
    "def euclidean(point1,point2):\n",
    "    res = 0\n",
    "    for i in range(len(point1)):\n",
    "        diff = (point1[i]-point2[i])\n",
    "        res +=  diff*diff\n",
    "    return math.sqrt(res)"
   ]
  },
  {
   "cell_type": "code",
   "execution_count": 22,
   "metadata": {},
   "outputs": [],
   "source": [
    "import sys\n",
    "n = len(inputPoints)\n",
    "r = sys.maxsize\n",
    "\n",
    "distances = np.zeros((n,n), dtype=\"float64\")\n",
    "# computing distance between one point to every other point\n",
    "for i in range(n):\n",
    "    for j in range(n):\n",
    "        if i<j:\n",
    "            distances[i,j] = euclidean(inputPoints[i],inputPoints[j])\n",
    "        elif j<i:\n",
    "            distances[i,j] = distances[j,i]"
   ]
  },
  {
   "cell_type": "code",
   "execution_count": 25,
   "metadata": {},
   "outputs": [
    {
     "name": "stdout",
     "output_type": "stream",
     "text": [
      "0.0\t0.14142135623730964\t0.14142135623730948\t0.09999999999999998\t3.0\t\n",
      "0.14142135623730964\t0.0\t0.2828427124746191\t0.22360679774997907\t2.9017236257093817\t\n",
      "0.14142135623730948\t0.2828427124746191\t0.0\t0.09999999999999998\t3.1016124838541645\t\n",
      "0.09999999999999998\t0.22360679774997907\t0.09999999999999998\t0.0\t3.0016662039607267\t\n",
      "3.0\t2.9017236257093817\t3.1016124838541645\t3.0016662039607267\t0.0\t\n"
     ]
    }
   ],
   "source": [
    "for each in distances[:5]:\n",
    "    for i in each[:5]:\n",
    "        print(i,end=\"\\t\")\n",
    "    print()"
   ]
  },
  {
   "cell_type": "code",
   "execution_count": null,
   "metadata": {},
   "outputs": [],
   "source": []
  }
 ],
 "metadata": {
  "interpreter": {
   "hash": "770021e68aae5e5bc49f7a3b6edb919a4a251fef8e7696fd47196c25263b13c4"
  },
  "kernelspec": {
   "display_name": "Python 3.9.7 ('base')",
   "language": "python",
   "name": "python3"
  },
  "language_info": {
   "codemirror_mode": {
    "name": "ipython",
    "version": 3
   },
   "file_extension": ".py",
   "mimetype": "text/x-python",
   "name": "python",
   "nbconvert_exporter": "python",
   "pygments_lexer": "ipython3",
   "version": "3.9.7"
  },
  "orig_nbformat": 4
 },
 "nbformat": 4,
 "nbformat_minor": 2
}
